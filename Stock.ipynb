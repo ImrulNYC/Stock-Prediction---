{
  "nbformat": 4,
  "nbformat_minor": 0,
  "metadata": {
    "colab": {
      "provenance": []
    },
    "kernelspec": {
      "name": "python3",
      "display_name": "Python 3"
    },
    "language_info": {
      "name": "python"
    }
  },
  "cells": [
    {
      "cell_type": "code",
      "execution_count": 19,
      "metadata": {
        "id": "Q07hWq3QOvCD"
      },
      "outputs": [],
      "source": [
        "import datetime as dt\n",
        "import numpy as np\n",
        "import pandas as pd\n",
        "import matplotlib.pyplot as plt\n",
        "import pandas_datareader as web\n",
        "\n",
        "from sklearn.preprocessing import MinMaxScaler\n",
        "from tensorflow.keras.models import Sequential\n",
        "from tensorflow.keras.layers import Dense, Dropout, LSTM\n",
        "\n"
      ]
    },
    {
      "cell_type": "code",
      "source": [
        "api_key = 'UZRP47Q8O7HR0FK6'\n",
        "\n",
        "\n",
        "company = 'TSLA'\n",
        "start = dt.datetime(2020, 1, 1)\n",
        "end = dt.datetime(2023, 1, 1)\n",
        "\n",
        "data = web.DataReader(f'{company}', 'av-daily', start=start, end=end, api_key=api_key)"
      ],
      "metadata": {
        "id": "86khUTd8UB4o"
      },
      "execution_count": 20,
      "outputs": []
    },
    {
      "cell_type": "code",
      "source": [
        "data.info()"
      ],
      "metadata": {
        "colab": {
          "base_uri": "https://localhost:8080/"
        },
        "id": "UnO9HUPUWkyc",
        "outputId": "783d5f1f-796c-4e27-a10e-0c2337ae296b"
      },
      "execution_count": 21,
      "outputs": [
        {
          "output_type": "stream",
          "name": "stdout",
          "text": [
            "<class 'pandas.core.frame.DataFrame'>\n",
            "Index: 756 entries, 2020-01-02 to 2022-12-30\n",
            "Data columns (total 5 columns):\n",
            " #   Column  Non-Null Count  Dtype  \n",
            "---  ------  --------------  -----  \n",
            " 0   open    756 non-null    float64\n",
            " 1   high    756 non-null    float64\n",
            " 2   low     756 non-null    float64\n",
            " 3   close   756 non-null    float64\n",
            " 4   volume  756 non-null    int64  \n",
            "dtypes: float64(4), int64(1)\n",
            "memory usage: 35.4+ KB\n"
          ]
        }
      ]
    },
    {
      "cell_type": "code",
      "source": [
        "\n",
        "\n",
        "scaler = MinMaxScaler(feature_range=(0, 1))\n",
        "\n",
        "scaled_data = scaler.fit_transform(data['close'].values.reshape(-1, 1))\n",
        "\n",
        "prediction_days = 365"
      ],
      "metadata": {
        "id": "5GwRqjDbBGI0"
      },
      "execution_count": 22,
      "outputs": []
    },
    {
      "cell_type": "code",
      "source": [
        "\n",
        "x_train = []\n",
        "y_train = []\n",
        "for x in range(prediction_days, len(scaled_data)):\n",
        "    x_train.append(scaled_data[x - prediction_days:x, 0])\n",
        "    y_train.append(scaled_data[x, 0])\n",
        "\n",
        "x_train, y_train = np.array(x_train), np.array(y_train)\n",
        "\n",
        "x_train = np.reshape(x_train, (x_train.shape[0], x_train.shape[1], 1))"
      ],
      "metadata": {
        "id": "8P9WS0PIBL2v"
      },
      "execution_count": 23,
      "outputs": []
    },
    {
      "cell_type": "code",
      "source": [
        "\n",
        "\n",
        "# Build the model\n",
        "model = Sequential()\n",
        "\n",
        "model.add(LSTM(units=100, return_sequences=True, input_shape=(x_train.shape[1], 1)))\n",
        "model.add(Dropout(0.2))\n",
        "\n",
        "model.add(LSTM(units=100, return_sequences=True))\n",
        "model.add(Dropout(0.2))\n",
        "\n",
        "model.add(LSTM(units=100))\n",
        "model.add(Dropout(0.2))\n",
        "model.add(Dense(units=1))\n",
        "model.compile(optimizer='adam', loss='mean_squared_error')\n",
        "model.fit(x_train, y_train, epochs=10, batch_size=60)"
      ],
      "metadata": {
        "colab": {
          "base_uri": "https://localhost:8080/"
        },
        "id": "zsX5fBULBQ7A",
        "outputId": "71cb7e57-5165-415d-cb02-b479e39d3a4c"
      },
      "execution_count": 24,
      "outputs": [
        {
          "output_type": "stream",
          "name": "stdout",
          "text": [
            "Epoch 1/10\n",
            "7/7 [==============================] - 18s 2s/step - loss: 0.0408\n",
            "Epoch 2/10\n",
            "7/7 [==============================] - 13s 2s/step - loss: 0.0088\n",
            "Epoch 3/10\n",
            "7/7 [==============================] - 15s 2s/step - loss: 0.0065\n",
            "Epoch 4/10\n",
            "7/7 [==============================] - 12s 2s/step - loss: 0.0060\n",
            "Epoch 5/10\n",
            "7/7 [==============================] - 13s 2s/step - loss: 0.0043\n",
            "Epoch 6/10\n",
            "7/7 [==============================] - 11s 2s/step - loss: 0.0039\n",
            "Epoch 7/10\n",
            "7/7 [==============================] - 11s 2s/step - loss: 0.0038\n",
            "Epoch 8/10\n",
            "7/7 [==============================] - 11s 2s/step - loss: 0.0035\n",
            "Epoch 9/10\n",
            "7/7 [==============================] - 11s 1s/step - loss: 0.0034\n",
            "Epoch 10/10\n",
            "7/7 [==============================] - 11s 2s/step - loss: 0.0031\n"
          ]
        },
        {
          "output_type": "execute_result",
          "data": {
            "text/plain": [
              "<keras.src.callbacks.History at 0x7f507d829fc0>"
            ]
          },
          "metadata": {},
          "execution_count": 24
        }
      ]
    },
    {
      "cell_type": "code",
      "source": [
        "\n",
        "# Test the model accuracy on existing data\n",
        "# Load test data\n",
        "test_start = dt.datetime(2020, 1, 1)\n",
        "test_end = dt.datetime.now()\n",
        "\n",
        "test_data = web.DataReader(f'{company}', 'av-daily', start=test_start, end=test_end, api_key=api_key)\n",
        "actual_prices = test_data['close'].values\n",
        "\n",
        "total_dataset = pd.concat((data['close'], test_data['close']), axis=0)\n",
        "\n",
        "model_inputs = total_dataset[len(total_dataset) - len(test_data) - prediction_days:].values\n",
        "model_inputs = model_inputs.reshape(-1, 1)\n",
        "model_inputs = scaler.transform(model_inputs)"
      ],
      "metadata": {
        "id": "X_eIo1n0BXKz"
      },
      "execution_count": 25,
      "outputs": []
    },
    {
      "cell_type": "code",
      "source": [
        "\n",
        "\n",
        "# Make predictions on test data\n",
        "x_test = []\n",
        "for x in range(prediction_days, len(model_inputs)):\n",
        "    x_test.append(model_inputs[x - prediction_days:x, 0])\n",
        "\n",
        "x_test = np.array(x_test)\n",
        "x_test = np.reshape(x_test, (x_test.shape[0], x_test.shape[1], 1))\n",
        "\n",
        "predicted_prices = model.predict(x_test)\n",
        "predicted_prices = scaler.inverse_transform(predicted_prices)\n",
        "\n",
        "\n",
        "\n",
        "\n",
        "\n",
        "\n"
      ],
      "metadata": {
        "colab": {
          "base_uri": "https://localhost:8080/"
        },
        "id": "qKbD1n_HUkjC",
        "outputId": "10f61743-7fd9-4e11-892f-a275f55adbd6"
      },
      "execution_count": 26,
      "outputs": [
        {
          "output_type": "stream",
          "name": "stdout",
          "text": [
            "30/30 [==============================] - 8s 231ms/step\n"
          ]
        }
      ]
    },
    {
      "cell_type": "code",
      "source": [
        "# Plot the test predictions\n",
        "plt.plot(actual_prices, color='green', label=f\"Actual {company} Price\")\n",
        "plt.plot(predicted_prices, color='red', label=f\"Predicted {company} Price\")\n",
        "plt.title(f\"{company} Share Price\")\n",
        "plt.xlabel('Time')\n",
        "plt.ylabel(f'{company} Share Price')\n",
        "plt.legend()\n",
        "plt.show()"
      ],
      "metadata": {
        "colab": {
          "base_uri": "https://localhost:8080/",
          "height": 472
        },
        "id": "h5wxD09RBbb-",
        "outputId": "6096a971-4e34-40c0-a5fc-a871c5979f2e"
      },
      "execution_count": 27,
      "outputs": [
        {
          "output_type": "display_data",
          "data": {
            "text/plain": [
              "<Figure size 640x480 with 1 Axes>"
            ],
            "image/png": "[encoded data removed]"
          },
          "metadata": {}
        }
      ]
    },
    {
      "cell_type": "code",
      "source": [
        "real_data=[model_inputs[len(model_inputs)+1-prediction_days:len(model_inputs+1),0]]\n",
        "real_data=np.array(real_data)\n",
        "real_data=np.reshape(real_data, (real_data.shape[0], real_data.shape[1],1))\n",
        "\n",
        "prediction = model.predict(real_data)\n",
        "prediction=scaler.inverse_transform(prediction)\n",
        "print(f\"Prediction: {prediction}\")"
      ],
      "metadata": {
        "colab": {
          "base_uri": "https://localhost:8080/"
        },
        "id": "sSIEi7R1d60Y",
        "outputId": "c40c35c7-035d-4621-9bfc-951db86839d6"
      },
      "execution_count": 28,
      "outputs": [
        {
          "output_type": "stream",
          "name": "stdout",
          "text": [
            "1/1 [==============================] - 1s 1s/step\n",
            "Prediction: [[256.116]]\n"
          ]
        }
      ]
    },
    {
      "cell_type": "code",
      "source": [
        "# Make predictions on the real data\n",
        "real_data = [model_inputs[len(model_inputs) + 1 - prediction_days : len(model_inputs) + 1, 0]]\n",
        "real_data = np.array(real_data)\n",
        "real_data = np.reshape(real_data, (real_data.shape[0], real_data.shape[1], 1))\n",
        "\n",
        "prediction = model.predict(real_data)\n",
        "prediction = scaler.inverse_transform(prediction)\n",
        "\n",
        "# Get the actual price\n",
        "actual_price = actual_prices[-1]\n",
        "\n",
        "# Calculate the accuracy\n",
        "accuracy = 100 - ((abs(actual_price - prediction[0][0]) / actual_price) * 100)\n",
        "\n",
        "# Print company name, actual price, prediction price, and accuracy\n",
        "print(f\"Company: {company}\")\n",
        "print(f\"Actual Price: {actual_price:.2f}\")\n",
        "print(f\"Predicted Price: {prediction[0][0]:.2f}\")\n",
        "print(f\"Accuracy: {accuracy:.2f}%\")\n"
      ],
      "metadata": {
        "colab": {
          "base_uri": "https://localhost:8080/"
        },
        "id": "kW64PVgfCCic",
        "outputId": "63a1d6c9-825e-46ff-a9db-d4134c991fd8"
      },
      "execution_count": 52,
      "outputs": [
        {
          "output_type": "stream",
          "name": "stdout",
          "text": [
            "1/1 [==============================] - 0s 138ms/step\n",
            "Company: TSLA\n",
            "Actual Price: 263.62\n",
            "Predicted Price: 256.12\n",
            "Accuracy: 97.15%\n"
          ]
        }
      ]
    }
  ]
}